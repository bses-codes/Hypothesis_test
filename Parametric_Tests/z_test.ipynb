{
 "cells": [
  {
   "cell_type": "code",
   "id": "6a283634fe933f01",
   "metadata": {
    "collapsed": true,
    "ExecuteTime": {
     "end_time": "2024-06-03T05:17:53.098562Z",
     "start_time": "2024-06-03T05:17:53.095351Z"
    }
   },
   "source": [
    "import numpy as np\n",
    "from scipy import stats"
   ],
   "outputs": [],
   "execution_count": 10
  },
  {
   "metadata": {
    "ExecuteTime": {
     "end_time": "2024-06-03T05:19:20.100423Z",
     "start_time": "2024-06-03T05:19:20.097674Z"
    }
   },
   "cell_type": "code",
   "source": [
    "population_mean = 98\n",
    "sample_mean = 108\n",
    "population_std = 12\n",
    "sample_size = 25\n",
    "alpha = 0.05"
   ],
   "id": "dd8ecb42d253b68c",
   "outputs": [],
   "execution_count": 23
  },
  {
   "metadata": {
    "ExecuteTime": {
     "end_time": "2024-06-03T05:19:20.326610Z",
     "start_time": "2024-06-03T05:19:20.323211Z"
    }
   },
   "cell_type": "code",
   "source": [
    "Z = (sample_mean - population_mean) / (population_std / np.sqrt(sample_size))\n",
    "p_value = 2 * (1 - stats.norm.cdf(np.abs(Z)))"
   ],
   "id": "9260f78b1230ae8e",
   "outputs": [],
   "execution_count": 24
  },
  {
   "metadata": {
    "ExecuteTime": {
     "end_time": "2024-06-03T05:19:20.621768Z",
     "start_time": "2024-06-03T05:19:20.618307Z"
    }
   },
   "cell_type": "code",
   "source": [
    "print(f\"Z-score: {Z}\")\n",
    "print(f\"P-value: {p_value}\")"
   ],
   "id": "initial_id",
   "outputs": [
    {
     "name": "stdout",
     "output_type": "stream",
     "text": [
      "Z-score: 4.166666666666667\n",
      "P-value: 3.090859376464472e-05\n"
     ]
    }
   ],
   "execution_count": 25
  }
 ],
 "metadata": {
  "kernelspec": {
   "display_name": "Python 3",
   "language": "python",
   "name": "python3"
  },
  "language_info": {
   "codemirror_mode": {
    "name": "ipython",
    "version": 2
   },
   "file_extension": ".py",
   "mimetype": "text/x-python",
   "name": "python",
   "nbconvert_exporter": "python",
   "pygments_lexer": "ipython2",
   "version": "2.7.6"
  }
 },
 "nbformat": 4,
 "nbformat_minor": 5
}
