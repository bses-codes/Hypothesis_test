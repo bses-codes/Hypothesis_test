{
 "cells": [
  {
   "metadata": {
    "ExecuteTime": {
     "end_time": "2024-06-02T11:04:40.859600Z",
     "start_time": "2024-06-02T11:04:40.855965Z"
    }
   },
   "cell_type": "code",
   "source": [
    "import pandas as pd\n",
    "import scipy.stats as stats"
   ],
   "id": "16777bd7970857c1",
   "execution_count": 20,
   "outputs": []
  },
  {
   "metadata": {
    "ExecuteTime": {
     "end_time": "2024-06-02T11:04:41.185323Z",
     "start_time": "2024-06-02T11:04:41.181774Z"
    }
   },
   "cell_type": "code",
   "source": [
    "A = [25, 30, 28, 36, 29]\n",
    "B = [45, 55, 29, 56, 40]\n",
    "C = [30, 29, 33, 37, 27]\n",
    "D = [54, 60, 51, 62, 73]"
   ],
   "id": "74ab5a81faf1016a",
   "execution_count": 21,
   "outputs": []
  },
  {
   "metadata": {
    "ExecuteTime": {
     "end_time": "2024-06-02T11:04:41.533497Z",
     "start_time": "2024-06-02T11:04:41.530551Z"
    }
   },
   "cell_type": "code",
   "source": [
    "df = pd.DataFrame({'A': A, 'B': B, 'C': C, 'D': D})\n",
    "anova_result = stats.f_oneway(df['A'], df['B'], df['C'], df['D'])"
   ],
   "id": "4d8bdc8beb25a4a",
   "execution_count": 22,
   "outputs": []
  },
  {
   "metadata": {
    "ExecuteTime": {
     "end_time": "2024-06-02T11:04:41.873815Z",
     "start_time": "2024-06-02T11:04:41.871778Z"
    }
   },
   "cell_type": "code",
   "source": [
    "print(f'F-statistic: {anova_result.statistic}')\n",
    "print(f'p-value: {anova_result.pvalue}')"
   ],
   "id": "ec81df447e0811c7",
   "execution_count": 23,
   "outputs": []
  },
  {
   "metadata": {
    "ExecuteTime": {
     "end_time": "2024-06-02T11:04:42.650951Z",
     "start_time": "2024-06-02T11:04:42.647020Z"
    }
   },
   "cell_type": "code",
   "source": [
    "data = A + B + C + D\n",
    "groups = ['A']*len(A) + ['B']*len(B) + ['C']*len(C) + ['D']*len(D)"
   ],
   "id": "1ac22090bfcd3b61",
   "execution_count": 24,
   "outputs": []
  },
  {
   "metadata": {
    "ExecuteTime": {
     "end_time": "2024-06-02T11:04:43.324101Z",
     "start_time": "2024-06-02T11:04:43.320223Z"
    }
   },
   "cell_type": "code",
   "source": "df = pd.DataFrame({'value': data, 'group': groups})",
   "id": "ce75e49c9ff4fb82",
   "execution_count": 25,
   "outputs": []
  },
  {
   "metadata": {
    "ExecuteTime": {
     "end_time": "2024-06-02T11:04:43.814972Z",
     "start_time": "2024-06-02T11:04:43.809899Z"
    }
   },
   "cell_type": "code",
   "source": "df",
   "id": "9ea56154aceaa498",
   "execution_count": 26,
   "outputs": []
  },
  {
   "metadata": {
    "ExecuteTime": {
     "end_time": "2024-06-02T11:07:38.555913Z",
     "start_time": "2024-06-02T11:07:38.545708Z"
    }
   },
   "cell_type": "code",
   "source": [
    "import pandas as pd\n",
    "import scipy.stats as stats\n",
    "import statsmodels.api as sm\n",
    "from statsmodels.formula.api import ols\n",
    "\n",
    "A = [25, 30, 28, 36, 29]\n",
    "B = [45, 55, 29, 56, 40]\n",
    "C = [30, 29, 33, 37, 27]\n",
    "D = [54, 60, 51, 62, 73]\n",
    "data = A + B + C + D\n",
    "\n",
    "# Combine data and groups into a DataFrame\n",
    "df = pd.DataFrame({'value': data, 'group': ['A']*len(A) + ['B']*len(B) + ['C']*len(C) + ['D']*len(D)})\n",
    "\n",
    "# Use pandas Series for the categorical variable\n",
    "model = ols('value ~ group', data=df).fit()\n",
    "anova_table = sm.stats.anova_lm(model, typ=2) \n",
    "\n",
    "print(\"Analysis of Variance (ANOVA)\")\n",
    "print(anova_table)\n"
   ],
   "id": "dfeb34d4fc8b00cc",
   "execution_count": 31,
   "outputs": []
  }
 ],
 "metadata": {
  "kernelspec": {
   "display_name": "Python 3",
   "language": "python",
   "name": "python3"
  },
  "language_info": {
   "codemirror_mode": {
    "name": "ipython",
    "version": 2
   },
   "file_extension": ".py",
   "mimetype": "text/x-python",
   "name": "python",
   "nbconvert_exporter": "python",
   "pygments_lexer": "ipython2",
   "version": "2.7.6"
  }
 },
 "nbformat": 4,
 "nbformat_minor": 5
}
