{
 "cells": [
  {
   "cell_type": "code",
   "id": "a4b22d5a5a59cca3",
   "metadata": {
    "collapsed": true,
    "ExecuteTime": {
     "end_time": "2024-06-03T10:56:42.271929Z",
     "start_time": "2024-06-03T10:56:42.268532Z"
    }
   },
   "source": [
    "import scipy.stats as stats\n",
    "import numpy as np"
   ],
   "outputs": [],
   "execution_count": 19
  },
  {
   "metadata": {
    "ExecuteTime": {
     "end_time": "2024-06-03T10:56:42.678190Z",
     "start_time": "2024-06-03T10:56:42.676245Z"
    }
   },
   "cell_type": "code",
   "source": [
    "A = [25, 30, 28, 36, 29]\n",
    "B = [45, 55, 29, 56, 40]"
   ],
   "id": "322a175b24c827fe",
   "outputs": [],
   "execution_count": 20
  },
  {
   "metadata": {
    "ExecuteTime": {
     "end_time": "2024-06-03T10:56:43.591108Z",
     "start_time": "2024-06-03T10:56:43.586488Z"
    }
   },
   "cell_type": "code",
   "source": [
    "t_stat, p_value = stats.ttest_ind(A, B)\n",
    "t1_stat,p1_value = stats.ttest_1samp(A,32)"
   ],
   "id": "6c732cabde2fecc1",
   "outputs": [],
   "execution_count": 21
  },
  {
   "metadata": {
    "ExecuteTime": {
     "end_time": "2024-06-03T10:56:45.219692Z",
     "start_time": "2024-06-03T10:56:45.215148Z"
    }
   },
   "cell_type": "code",
   "source": [
    "print('For one sample t-test')\n",
    "print(f'T-statistic: {t1_stat}')\n",
    "print(f'P-value: {p1_value}')\n",
    "print(f'df: {len(A)-1} \\n')\n",
    "\n",
    "print('For two sample t-test')\n",
    "print(f'T-statistic: {t_stat}')\n",
    "print(f'P-value: {p_value}')\n",
    "print(f'df: {len(A)+len(B)-2}')"
   ],
   "id": "initial_id",
   "outputs": [
    {
     "name": "stdout",
     "output_type": "stream",
     "text": [
      "For one sample t-test\n",
      "T-statistic: -1.3292370614921063\n",
      "P-value: 0.25451627061836035\n",
      "df: 4 \n",
      "\n",
      "For two sample t-test\n",
      "T-statistic: -2.8917956998264165\n",
      "P-value: 0.020143585933298503\n",
      "df: 8\n"
     ]
    }
   ],
   "execution_count": 22
  },
  {
   "metadata": {
    "ExecuteTime": {
     "end_time": "2024-06-03T10:57:17.240729Z",
     "start_time": "2024-06-03T10:57:17.234602Z"
    }
   },
   "cell_type": "code",
   "source": "stats.t.interval(0.95, len(A)-1, loc=np.mean(A), scale=stats.sem(A))",
   "id": "e37bdb1e77654536",
   "outputs": [
    {
     "data": {
      "text/plain": [
       "(24.586997845971297, 34.613002154028706)"
      ]
     },
     "execution_count": 25,
     "metadata": {},
     "output_type": "execute_result"
    }
   ],
   "execution_count": 25
  },
  {
   "metadata": {
    "ExecuteTime": {
     "end_time": "2024-06-03T10:58:03.656265Z",
     "start_time": "2024-06-03T10:58:03.650115Z"
    }
   },
   "cell_type": "code",
   "source": [
    "import statsmodels.stats.api as sm\n",
    "sm.DescrStatsW(A,B).tconfint_mean()"
   ],
   "id": "a2d04ab132285726",
   "outputs": [
    {
     "data": {
      "text/plain": [
       "(29.553818292013585, 30.561737263541968)"
      ]
     },
     "execution_count": 27,
     "metadata": {},
     "output_type": "execute_result"
    }
   ],
   "execution_count": 27
  }
 ],
 "metadata": {
  "kernelspec": {
   "display_name": "Python 3",
   "language": "python",
   "name": "python3"
  },
  "language_info": {
   "codemirror_mode": {
    "name": "ipython",
    "version": 2
   },
   "file_extension": ".py",
   "mimetype": "text/x-python",
   "name": "python",
   "nbconvert_exporter": "python",
   "pygments_lexer": "ipython2",
   "version": "2.7.6"
  }
 },
 "nbformat": 4,
 "nbformat_minor": 5
}
