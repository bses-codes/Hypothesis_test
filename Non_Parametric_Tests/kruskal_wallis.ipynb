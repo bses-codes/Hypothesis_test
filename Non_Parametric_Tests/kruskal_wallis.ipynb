{
 "cells": [
  {
   "cell_type": "code",
   "id": "9822637ea06a6fdd",
   "metadata": {
    "collapsed": true,
    "ExecuteTime": {
     "end_time": "2024-06-03T07:14:21.607883Z",
     "start_time": "2024-06-03T07:14:21.115617Z"
    }
   },
   "source": "from scipy import stats",
   "outputs": [],
   "execution_count": 1
  },
  {
   "metadata": {
    "ExecuteTime": {
     "end_time": "2024-06-03T07:14:21.610731Z",
     "start_time": "2024-06-03T07:14:21.608947Z"
    }
   },
   "cell_type": "code",
   "source": [
    "group1 = [23, 28, 32, 35, 37]\n",
    "group2 = [18, 24, 30, 32, 36]\n",
    "group3 = [25, 27, 30, 33, 35]"
   ],
   "id": "9a424c022ecfb514",
   "outputs": [],
   "execution_count": 2
  },
  {
   "metadata": {
    "ExecuteTime": {
     "end_time": "2024-06-03T07:14:22.492866Z",
     "start_time": "2024-06-03T07:14:22.487650Z"
    }
   },
   "cell_type": "code",
   "source": "kruskal_stat, p_value = stats.kruskal(group1, group2, group3)",
   "id": "9fe93be40e6d6b18",
   "outputs": [],
   "execution_count": 3
  },
  {
   "metadata": {
    "ExecuteTime": {
     "end_time": "2024-06-03T07:14:37.710349Z",
     "start_time": "2024-06-03T07:14:37.706675Z"
    }
   },
   "cell_type": "code",
   "source": [
    "print(\"Kruskal-Wallis Test:\")\n",
    "print(f\"Statistic: {kruskal_stat}\")\n",
    "print(f\"P-value: {p_value}\")"
   ],
   "id": "ccd38accfbe1e0a5",
   "outputs": [
    {
     "name": "stdout",
     "output_type": "stream",
     "text": [
      "Kruskal-Wallis Test:\n",
      "Statistic: 0.5026929982046678\n",
      "P-value: 0.7777528342055386\n"
     ]
    }
   ],
   "execution_count": 5
  }
 ],
 "metadata": {
  "kernelspec": {
   "display_name": "Python 3",
   "language": "python",
   "name": "python3"
  },
  "language_info": {
   "codemirror_mode": {
    "name": "ipython",
    "version": 2
   },
   "file_extension": ".py",
   "mimetype": "text/x-python",
   "name": "python",
   "nbconvert_exporter": "python",
   "pygments_lexer": "ipython2",
   "version": "2.7.6"
  }
 },
 "nbformat": 4,
 "nbformat_minor": 5
}
