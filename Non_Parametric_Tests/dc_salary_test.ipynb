{
 "cells": [
  {
   "metadata": {
    "jupyter": {
     "is_executing": true
    }
   },
   "cell_type": "code",
   "source": [
    "import pandas as pd\n",
    "import matplotlib.pyplot as plt\n",
    "import seaborn as sns"
   ],
   "id": "8484935c4502e391",
   "outputs": [],
   "execution_count": null
  },
  {
   "metadata": {
    "ExecuteTime": {
     "end_time": "2024-06-04T04:08:48.385716Z",
     "start_time": "2024-06-04T04:08:48.340667Z"
    }
   },
   "cell_type": "code",
   "source": [
    "df = pd.read_csv('fc_transaction_base.csv')\n",
    "data = df[['dc_indicator','lcy_amount']]\n",
    "data"
   ],
   "id": "7a13f749703625c9",
   "execution_count": 3,
   "outputs": []
  },
  {
   "metadata": {
    "ExecuteTime": {
     "end_time": "2024-06-04T04:15:35.863776Z",
     "start_time": "2024-06-04T04:15:35.854631Z"
    }
   },
   "cell_type": "code",
   "source": [
    "df_withdraw = data[data['dc_indicator']=='withdraw']\n",
    "df_deposit = data[data['dc_indicator']=='deposit']"
   ],
   "id": "e231e4d977c9a9ff",
   "execution_count": 4,
   "outputs": []
  },
  {
   "metadata": {
    "ExecuteTime": {
     "end_time": "2024-06-04T04:23:45.046768Z",
     "start_time": "2024-06-04T04:23:44.964531Z"
    }
   },
   "cell_type": "code",
   "source": "data.boxplot(by='dc_indicator')",
   "id": "a6187dee713fda1",
   "execution_count": 18,
   "outputs": []
  },
  {
   "metadata": {},
   "cell_type": "markdown",
   "source": "Here, we can see that both the data are positively skewed. Therefore we can move forward with the assumption that the data does not follow normal distribution and the parameters of distribution are unknown for us.",
   "id": "b4bb904afc48882e"
  },
  {
   "metadata": {
    "ExecuteTime": {
     "end_time": "2024-06-04T05:11:22.661139Z",
     "start_time": "2024-06-04T05:11:22.659054Z"
    }
   },
   "cell_type": "code",
   "source": [
    "from scipy import stats\n",
    "import numpy as np"
   ],
   "id": "a7f966e260df5568",
   "execution_count": 64,
   "outputs": []
  },
  {
   "metadata": {},
   "cell_type": "markdown",
   "source": [
    "## Levene Test\n",
    "\n",
    "* **Null Hypothesis:** The variance of amounts for deposit is equal to the variance of amounts for withdraw.<br>\n",
    "* **Alternative Hypothesis:** The variance of amounts for deposit is significantly different from the variance of amounts for withdraw."
   ],
   "id": "861a60119f2ba651"
  },
  {
   "metadata": {
    "ExecuteTime": {
     "end_time": "2024-06-04T04:40:14.114059Z",
     "start_time": "2024-06-04T04:40:14.108879Z"
    }
   },
   "cell_type": "code",
   "source": [
    "stat, p_value = levene_test = stats.levene(df_deposit['lcy_amount'], df_withdraw['lcy_amount'])\n",
    "print(\"Levene Test:\")\n",
    "print(f\"Statistic: {stat}\")\n",
    "print(f\"P-value: {p_value}\")"
   ],
   "id": "addde2fdebf8d4d2",
   "execution_count": 27,
   "outputs": []
  },
  {
   "metadata": {},
   "cell_type": "markdown",
   "source": "",
   "id": "24ab4aead2648bab"
  },
  {
   "metadata": {},
   "cell_type": "markdown",
   "source": "Here, at a 5% significance level, we can see P value is < 0.05. Therefore we reject the Null hypothesis.",
   "id": "8b5fc91c2db5d356"
  },
  {
   "metadata": {},
   "cell_type": "markdown",
   "source": [
    "## Mann-Whitney U Test\n",
    "\n",
    "* **Null Hypothesis:** The two samples come from the same population.<br>\n",
    "* **Alternative Hypothesis:** The two samples do not come from the same population."
   ],
   "id": "d3af71e57e3d473f"
  },
  {
   "metadata": {
    "ExecuteTime": {
     "end_time": "2024-06-04T04:29:04.195667Z",
     "start_time": "2024-06-04T04:29:04.186638Z"
    }
   },
   "cell_type": "code",
   "source": [
    "u_stat, p_value = stats.mannwhitneyu(df_deposit['lcy_amount'], df_withdraw['lcy_amount'])\n",
    "\n",
    "print(\"Mann-Whitney U Test:\")\n",
    "print(f\"Mann-Whitney U Statistic: {u_stat}\")\n",
    "print(f\"P-value: {p_value}\")"
   ],
   "id": "a36d3ce565b46614",
   "execution_count": 21,
   "outputs": []
  },
  {
   "metadata": {},
   "cell_type": "markdown",
   "source": "Here, at a 5% significance level, we can see P value is < 0.05 or strictly 0. Therefore we reject the Null hypothesis.",
   "id": "830dbb82444f7287"
  },
  {
   "metadata": {},
   "cell_type": "markdown",
   "source": "",
   "id": "7573940558f0a518"
  },
  {
   "metadata": {},
   "cell_type": "markdown",
   "source": [
    "## Chi-Square Test\n",
    "\n",
    "* **Null Hypothesis:** The proportion of credits is equal to the proportion of debits.<br>\n",
    "* **Alternative Hypothesis:** The proportion of credits is significantly different from the proportion of debits."
   ],
   "id": "26e88ee92aeb2069"
  },
  {
   "metadata": {
    "ExecuteTime": {
     "end_time": "2024-06-04T05:13:22.785631Z",
     "start_time": "2024-06-04T05:13:22.779582Z"
    }
   },
   "cell_type": "code",
   "source": [
    "observed = np.array(df['dc_indicator'].value_counts())\n",
    "\n",
    "total = np.sum(observed)\n",
    "expected = np.array([total / 2, total / 2])\n",
    "chi2_stat, p_val, dof, ex = stats.chi2_contingency([observed, expected])"
   ],
   "id": "9a70cafc90e61d38",
   "execution_count": 72,
   "outputs": []
  },
  {
   "metadata": {
    "ExecuteTime": {
     "end_time": "2024-06-04T05:13:23.650967Z",
     "start_time": "2024-06-04T05:13:23.646777Z"
    }
   },
   "cell_type": "code",
   "source": [
    "print(f\"Chi-Square Statistic: {chi2_stat}\")\n",
    "print(f\"P-Value: {p_val}\")\n",
    "print(f\"P-value: {p}\")\n",
    "print(f\"Degrees of freedom: {dof}\")\n",
    "print(f\"Expected frequencies: {ex}\")"
   ],
   "id": "fc8a74baecb478d0",
   "execution_count": 73,
   "outputs": []
  },
  {
   "metadata": {},
   "cell_type": "markdown",
   "source": "Here p-value is 0. Therfore we reject the null hypothesis.",
   "id": "90fa0cb262396476"
  }
 ],
 "metadata": {
  "kernelspec": {
   "display_name": "Python 3",
   "language": "python",
   "name": "python3"
  },
  "language_info": {
   "codemirror_mode": {
    "name": "ipython",
    "version": 2
   },
   "file_extension": ".py",
   "mimetype": "text/x-python",
   "name": "python",
   "nbconvert_exporter": "python",
   "pygments_lexer": "ipython2",
   "version": "2.7.6"
  }
 },
 "nbformat": 4,
 "nbformat_minor": 5
}
