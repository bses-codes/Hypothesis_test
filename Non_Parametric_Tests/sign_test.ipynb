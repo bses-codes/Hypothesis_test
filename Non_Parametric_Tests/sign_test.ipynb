{
 "cells": [
  {
   "cell_type": "code",
   "id": "78d7720095b2cc94",
   "metadata": {
    "collapsed": true,
    "ExecuteTime": {
     "end_time": "2024-06-03T06:51:42.414078Z",
     "start_time": "2024-06-03T06:51:41.926757Z"
    }
   },
   "source": [
    "import numpy as np\n",
    "import scipy.stats as stats"
   ],
   "outputs": [],
   "execution_count": 2
  },
  {
   "metadata": {
    "ExecuteTime": {
     "end_time": "2024-06-03T06:51:43.066472Z",
     "start_time": "2024-06-03T06:51:43.063272Z"
    }
   },
   "cell_type": "code",
   "source": [
    "data = [10, 5, 3, 8, 7, 9, 6, 12, 4, 6, 8, 11, 5, 7, 9]\n",
    "null_value = 8"
   ],
   "id": "625d24352c92ce8f",
   "outputs": [],
   "execution_count": 3
  },
  {
   "metadata": {
    "ExecuteTime": {
     "end_time": "2024-06-03T06:56:47.169309Z",
     "start_time": "2024-06-03T06:56:47.163847Z"
    }
   },
   "cell_type": "code",
   "source": [
    "sign_test_result = stats.binomtest(sum(np.array(data) > null_value), len(data),0.5)\n",
    "\n",
    "print(\"One-Sample Sign Test:\")\n",
    "print(f\"Sign Test statistic: {sign_test_result.statistic}\")\n",
    "print(f\"p-value: {sign_test_result.pvalue}\")"
   ],
   "id": "initial_id",
   "outputs": [
    {
     "name": "stdout",
     "output_type": "stream",
     "text": [
      "One-Sample Sign Test:\n",
      "Sign Test statistic: 0.3333333333333333\n",
      "p-value: 0.30175781249999994\n"
     ]
    }
   ],
   "execution_count": 13
  }
 ],
 "metadata": {
  "kernelspec": {
   "display_name": "Python 3",
   "language": "python",
   "name": "python3"
  },
  "language_info": {
   "codemirror_mode": {
    "name": "ipython",
    "version": 2
   },
   "file_extension": ".py",
   "mimetype": "text/x-python",
   "name": "python",
   "nbconvert_exporter": "python",
   "pygments_lexer": "ipython2",
   "version": "2.7.6"
  }
 },
 "nbformat": 4,
 "nbformat_minor": 5
}
