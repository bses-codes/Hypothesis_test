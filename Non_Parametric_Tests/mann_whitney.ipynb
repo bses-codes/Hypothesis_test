{
 "cells": [
  {
   "cell_type": "code",
   "id": "95c68ec8592f4207",
   "metadata": {
    "collapsed": true,
    "ExecuteTime": {
     "end_time": "2024-06-03T07:10:55.935025Z",
     "start_time": "2024-06-03T07:10:55.509703Z"
    }
   },
   "source": "from scipy import stats",
   "outputs": [],
   "execution_count": 2
  },
  {
   "metadata": {
    "ExecuteTime": {
     "end_time": "2024-06-03T07:10:55.938172Z",
     "start_time": "2024-06-03T07:10:55.936127Z"
    }
   },
   "cell_type": "code",
   "source": [
    "group1 = [84, 72, 57, 46, 63, 76, 99, 91, 67, 78]\n",
    "group2 = [71, 62, 56, 45, 69, 88, 92, 78, 76, 82]"
   ],
   "id": "1059ab001109d6f3",
   "outputs": [],
   "execution_count": 3
  },
  {
   "metadata": {
    "ExecuteTime": {
     "end_time": "2024-06-03T07:10:55.941485Z",
     "start_time": "2024-06-03T07:10:55.938959Z"
    }
   },
   "cell_type": "code",
   "source": "u_stat, p_value = stats.mannwhitneyu(group1, group2)",
   "id": "210c5580cc014ebe",
   "outputs": [],
   "execution_count": 4
  },
  {
   "metadata": {
    "ExecuteTime": {
     "end_time": "2024-06-03T07:10:56.154618Z",
     "start_time": "2024-06-03T07:10:56.151650Z"
    }
   },
   "cell_type": "code",
   "source": [
    "print(\"Mann-Whitney U Test:\")\n",
    "print(f\"Mann-Whitney U Statistic: {u_stat}\")\n",
    "print(f\"P-value: {p_value}\")"
   ],
   "id": "initial_id",
   "outputs": [
    {
     "name": "stdout",
     "output_type": "stream",
     "text": [
      "Mann-Whitney U Test:\n",
      "Mann-Whitney U Statistic: 53.0\n",
      "P-value: 0.8499952484876381\n"
     ]
    }
   ],
   "execution_count": 5
  }
 ],
 "metadata": {
  "kernelspec": {
   "display_name": "Python 3",
   "language": "python",
   "name": "python3"
  },
  "language_info": {
   "codemirror_mode": {
    "name": "ipython",
    "version": 2
   },
   "file_extension": ".py",
   "mimetype": "text/x-python",
   "name": "python",
   "nbconvert_exporter": "python",
   "pygments_lexer": "ipython2",
   "version": "2.7.6"
  }
 },
 "nbformat": 4,
 "nbformat_minor": 5
}
