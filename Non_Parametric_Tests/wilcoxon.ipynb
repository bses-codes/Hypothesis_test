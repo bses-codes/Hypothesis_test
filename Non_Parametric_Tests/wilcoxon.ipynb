{
 "cells": [
  {
   "cell_type": "code",
   "id": "25692b3585b4ec62",
   "metadata": {
    "collapsed": true,
    "ExecuteTime": {
     "end_time": "2024-06-03T07:03:15.034752Z",
     "start_time": "2024-06-03T07:03:14.659281Z"
    }
   },
   "source": "from scipy import stats",
   "outputs": [],
   "execution_count": 1
  },
  {
   "metadata": {
    "ExecuteTime": {
     "end_time": "2024-06-03T07:03:15.898415Z",
     "start_time": "2024-06-03T07:03:15.895321Z"
    }
   },
   "cell_type": "code",
   "source": [
    "data_before = [10, 8, 7, 6, 9, 12, 4, 6]\n",
    "data_after = [12, 10, 6, 8, 11, 5, 7, 9]"
   ],
   "id": "beaadf1e2d912cc2",
   "outputs": [],
   "execution_count": 2
  },
  {
   "metadata": {
    "ExecuteTime": {
     "end_time": "2024-06-03T07:04:34.218993Z",
     "start_time": "2024-06-03T07:04:34.213900Z"
    }
   },
   "cell_type": "code",
   "source": "w_statistic,p_value = stats.wilcoxon(data_before, data_after)",
   "id": "39bd39343ca67f8",
   "outputs": [],
   "execution_count": 6
  },
  {
   "metadata": {
    "ExecuteTime": {
     "end_time": "2024-06-03T07:04:34.540136Z",
     "start_time": "2024-06-03T07:04:34.536388Z"
    }
   },
   "cell_type": "code",
   "source": [
    "print(\"Wilcoxon Signed-Rank Test:\")\n",
    "print(f\"Wilcoxon Statistic: {w_statistic}\")\n",
    "print(f\"P-value: {p_value}\")"
   ],
   "id": "initial_id",
   "outputs": [
    {
     "name": "stdout",
     "output_type": "stream",
     "text": [
      "Wilcoxon Signed-Rank Test:\n",
      "Wilcoxon Statistic: 9.0\n",
      "P-value: 0.25\n"
     ]
    }
   ],
   "execution_count": 7
  }
 ],
 "metadata": {
  "kernelspec": {
   "display_name": "Python 3",
   "language": "python",
   "name": "python3"
  },
  "language_info": {
   "codemirror_mode": {
    "name": "ipython",
    "version": 2
   },
   "file_extension": ".py",
   "mimetype": "text/x-python",
   "name": "python",
   "nbconvert_exporter": "python",
   "pygments_lexer": "ipython2",
   "version": "2.7.6"
  }
 },
 "nbformat": 4,
 "nbformat_minor": 5
}
